{
 "cells": [
  {
   "cell_type": "code",
   "execution_count": 92,
   "metadata": {},
   "outputs": [],
   "source": [
    "import cv2\n",
    "import numpy as np\n",
    "import os\n",
    "from matplotlib import pyplot as plt\n",
    "\n",
    "input_folder = 'images'\n",
    "output_folder = 'geometric_dists'\n",
    "os.makedirs(output_folder, exist_ok=True)"
   ]
  },
  {
   "cell_type": "code",
   "execution_count": 93,
   "metadata": {},
   "outputs": [],
   "source": [
    "def rotate_image(image, angle):\n",
    "    (h, w) = image.shape[:2]\n",
    "    center = (w // 2, h // 2)\n",
    "    M = cv2.getRotationMatrix2D(center, angle, 1.0)\n",
    "    rotated = cv2.warpAffine(image, M, (w, h))\n",
    "    return rotated\n",
    "\n",
    "def translate_image(image, tx, ty):\n",
    "    (h, w) = image.shape[:2]\n",
    "    M = np.float32([[1, 0, tx], [0, 1, ty]])\n",
    "    translated = cv2.warpAffine(image, M, (w, h))\n",
    "    return translated\n",
    "\n",
    "def shear_image(image, shear_factor):\n",
    "    (h, w) = image.shape[:2]\n",
    "    M = np.float32([[1, shear_factor, 0], [0, 1, 0]])\n",
    "    sheared = cv2.warpAffine(image, M, (w, h))\n",
    "    return sheared\n"
   ]
  },
  {
   "cell_type": "code",
   "execution_count": 94,
   "metadata": {},
   "outputs": [],
   "source": [
    "def display_images(images, distorted_images, titles):\n",
    "    plt.figure(figsize=(15, 15))\n",
    "    for i in range(len(images)):\n",
    "        plt.subplot(len(images), len(distorted_images) + 1, i * (len(distorted_images) + 1) + 1)\n",
    "        plt.imshow(cv2.cvtColor(images[i], cv2.COLOR_BGR2RGB))\n",
    "        plt.title(\"Original\")\n",
    "        plt.axis('off')\n",
    "        \n",
    "        for j in range(len(distorted_images)):\n",
    "            plt.subplot(len(images), len(distorted_images) + 1, i * (len(distorted_images) + 1) + j + 2)\n",
    "            plt.imshow(cv2.cvtColor(distorted_images[j][i], cv2.COLOR_BGR2RGB))\n",
    "            plt.title(titles[j])\n",
    "            plt.axis('off')\n",
    "    plt.show()"
   ]
  },
  {
   "cell_type": "code",
   "execution_count": 95,
   "metadata": {},
   "outputs": [],
   "source": [
    "def apply_transformations(image_name, rotation_angle=45, tx=100, ty=100, shear_factor=0.5):\n",
    "    image = cv2.imread(os.path.join(input_folder, image_name))\n",
    "    rotated_images = []\n",
    "    translated_images = []\n",
    "    sheared_images = []\n",
    "    \n",
    "    for i in range(1,6):\n",
    "        rotated_images.append(rotate_image(image, i * rotation_angle))\n",
    "        translated_images.append(translate_image(image, i * tx, i * ty))\n",
    "        sheared_images.append(shear_image(image, i * shear_factor))\n",
    "    return rotated_images, translated_images, sheared_images"
   ]
  },
  {
   "cell_type": "markdown",
   "metadata": {},
   "source": [
    "apply transforms"
   ]
  },
  {
   "cell_type": "code",
   "execution_count": 96,
   "metadata": {},
   "outputs": [],
   "source": [
    "filenames = os.listdir(input_folder)\n",
    "dis = {}\n",
    "for n in filenames:\n",
    "    rotated_images, translated_images, sheared_images = apply_transformations(n)\n",
    "    dis[n] = [rotated_images, translated_images, sheared_images]\n"
   ]
  },
  {
   "cell_type": "markdown",
   "metadata": {},
   "source": [
    "save images"
   ]
  },
  {
   "cell_type": "code",
   "execution_count": 97,
   "metadata": {},
   "outputs": [],
   "source": [
    "out_rot = f\"{output_folder}/rotations\"\n",
    "out_trn = f\"{output_folder}/transtaltions\"\n",
    "out_shr = f\"{output_folder}/sheared\"\n",
    "\n",
    "os.makedirs(out_rot, exist_ok=True)\n",
    "os.makedirs(out_trn, exist_ok=True)\n",
    "os.makedirs(out_shr, exist_ok=True)\n",
    "\n",
    "for filename in filenames:\n",
    "    entry = dis[filename]\n",
    "    rotated_images, translated_images, sheared_images = entry\n",
    "    for i in range(5):\n",
    "        cv2.imwrite(f\"{out_rot}/{filename}_{i}.jpg\", rotated_images[i])\n",
    "        cv2.imwrite(f\"{out_trn}/{filename}_{i}.jpg\", translated_images[i])\n",
    "        cv2.imwrite(f\"{out_shr}/{filename}_{i}.jpg\", sheared_images[i])"
   ]
  }
 ],
 "metadata": {
  "kernelspec": {
   "display_name": "Python 3",
   "language": "python",
   "name": "python3"
  },
  "language_info": {
   "codemirror_mode": {
    "name": "ipython",
    "version": 3
   },
   "file_extension": ".py",
   "mimetype": "text/x-python",
   "name": "python",
   "nbconvert_exporter": "python",
   "pygments_lexer": "ipython3",
   "version": "3.11.9"
  }
 },
 "nbformat": 4,
 "nbformat_minor": 2
}
