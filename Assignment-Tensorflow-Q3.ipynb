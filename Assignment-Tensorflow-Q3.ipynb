{
 "cells": [
  {
   "cell_type": "code",
   "execution_count": 9,
   "metadata": {},
   "outputs": [],
   "source": [
    "import tensorflow as tf\n",
    "from tensorflow.keras.preprocessing.image import ImageDataGenerator\n",
    "import numpy as np\n",
    "import os\n",
    "from PIL import Image"
   ]
  },
  {
   "cell_type": "code",
   "execution_count": 10,
   "metadata": {},
   "outputs": [],
   "source": [
    "augmented_dir = 'augmented_images_tensorflow'\n",
    "os.makedirs(augmented_dir, exist_ok=True)"
   ]
  },
  {
   "cell_type": "code",
   "execution_count": 11,
   "metadata": {},
   "outputs": [],
   "source": [
    "image_folder = 'images'\n",
    "image_paths = [os.path.join(image_folder, fname) for fname in os.listdir(image_folder) if fname.endswith(('.png', '.jpg', '.jpeg'))]\n",
    "images = [Image.open(image_path) for image_path in image_paths]\n",
    "images = [np.array(img) for img in images]\n"
   ]
  },
  {
   "cell_type": "code",
   "execution_count": 12,
   "metadata": {},
   "outputs": [],
   "source": [
    "datagen = ImageDataGenerator(\n",
    "    rotation_range=40,\n",
    "    width_shift_range=0.2,\n",
    "    height_shift_range=0.2,\n",
    "    zoom_range=0.2,\n",
    "    horizontal_flip=True,\n",
    "    fill_mode='nearest'\n",
    ")\n"
   ]
  },
  {
   "cell_type": "code",
   "execution_count": 15,
   "metadata": {},
   "outputs": [],
   "source": [
    "num_augmented_images = 5\n",
    "\n",
    "for i, image in enumerate(images):\n",
    "    image = np.expand_dims(image, 0)\n",
    "    prefix = f'image_{i+1}'\n",
    "    img_gen = datagen.flow(image, batch_size=1, save_to_dir=augmented_dir, save_prefix=prefix, save_format='jpeg')\n",
    "    \n",
    "    for _ in range(num_augmented_images):\n",
    "        next(img_gen)\n"
   ]
  },
  {
   "cell_type": "code",
   "execution_count": 16,
   "metadata": {},
   "outputs": [],
   "source": [
    "for img_path in image_paths:\n",
    "    image = Image.open(img_path)\n",
    "    image = np.array(image)\n",
    "    image = np.expand_dims(image, 0)\n",
    "    \n",
    "    prefix = os.path.splitext(os.path.basename(img_path))[0]\n",
    "    img_gen = datagen.flow(image, batch_size=1, save_to_dir=augmented_dir, save_prefix=prefix, save_format='jpeg')\n",
    "    \n",
    "    for _ in range(num_augmented_images):\n",
    "        next(img_gen)\n"
   ]
  },
  {
   "cell_type": "code",
   "execution_count": 18,
   "metadata": {},
   "outputs": [],
   "source": [
    "batch_size = 2\n",
    "\n",
    "for i in range(0, len(image_paths), batch_size):\n",
    "    batch_paths = image_paths[i:i + batch_size]\n",
    "    images = []\n",
    "\n",
    "    # Load and preprocess images\n",
    "    for img_path in batch_paths:\n",
    "        image = Image.open(img_path)\n",
    "        image = np.array(image)\n",
    "        images.append(image)\n",
    "    \n",
    "    # Convert to numpy array and add batch dimension\n",
    "    images = np.array(images)\n",
    "\n",
    "    # Generate augmented images and save them\n",
    "    img_gen = datagen.flow(images, batch_size=2, save_to_dir=augmented_dir, save_prefix='batch', save_format='jpeg')\n",
    "\n",
    "    for _ in range(num_augmented_images):\n",
    "        next(img_gen)  # Generates and saves the augmented images"
   ]
  }
 ],
 "metadata": {
  "kernelspec": {
   "display_name": "Python 3",
   "language": "python",
   "name": "python3"
  },
  "language_info": {
   "codemirror_mode": {
    "name": "ipython",
    "version": 3
   },
   "file_extension": ".py",
   "mimetype": "text/x-python",
   "name": "python",
   "nbconvert_exporter": "python",
   "pygments_lexer": "ipython3",
   "version": "3.11.9"
  }
 },
 "nbformat": 4,
 "nbformat_minor": 2
}
